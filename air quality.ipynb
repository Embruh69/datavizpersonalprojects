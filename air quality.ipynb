{
 "cells": [
  {
   "cell_type": "code",
   "execution_count": 135,
   "id": "47eb967e",
   "metadata": {},
   "outputs": [],
   "source": [
    "import seaborn as sns\n",
    "import matplotlib.pyplot as plt\n",
    "import matplotlib.dates as mdates\n",
    "import numpy as np\n",
    "import pandas as pd\n",
    "import glob"
   ]
  },
  {
   "cell_type": "markdown",
   "id": "22215445",
   "metadata": {},
   "source": [
    "Baca semua file dalam folder yang memiliki format CSV dan digabungkan dalam satu dataframe"
   ]
  },
  {
   "cell_type": "code",
   "execution_count": 136,
   "id": "31849c13",
   "metadata": {},
   "outputs": [],
   "source": [
    "path = 'C:/Users/user/data/pollutant'\n",
    "csv_files = glob.glob(path + '/*.csv')\n",
    "df_list = (pd.read_csv(file) for file in csv_files)"
   ]
  },
  {
   "cell_type": "code",
   "execution_count": 137,
   "id": "ba195dd4",
   "metadata": {},
   "outputs": [],
   "source": [
    "df = pd.concat(df_list)"
   ]
  },
  {
   "cell_type": "code",
   "execution_count": 138,
   "id": "1d10ec7d",
   "metadata": {
    "scrolled": false
   },
   "outputs": [
    {
     "data": {
      "text/html": [
       "<div>\n",
       "<style scoped>\n",
       "    .dataframe tbody tr th:only-of-type {\n",
       "        vertical-align: middle;\n",
       "    }\n",
       "\n",
       "    .dataframe tbody tr th {\n",
       "        vertical-align: top;\n",
       "    }\n",
       "\n",
       "    .dataframe thead th {\n",
       "        text-align: right;\n",
       "    }\n",
       "</style>\n",
       "<table border=\"1\" class=\"dataframe\">\n",
       "  <thead>\n",
       "    <tr style=\"text-align: right;\">\n",
       "      <th></th>\n",
       "      <th>tanggal</th>\n",
       "      <th>stasiun</th>\n",
       "      <th>pm10</th>\n",
       "      <th>pm25</th>\n",
       "      <th>so2</th>\n",
       "      <th>co</th>\n",
       "      <th>o3</th>\n",
       "      <th>no2</th>\n",
       "      <th>max</th>\n",
       "      <th>critical</th>\n",
       "      <th>categori</th>\n",
       "    </tr>\n",
       "  </thead>\n",
       "  <tbody>\n",
       "    <tr>\n",
       "      <th>0</th>\n",
       "      <td>2021-10-01</td>\n",
       "      <td>DKI1 (Bunderan HI)</td>\n",
       "      <td>57</td>\n",
       "      <td>81</td>\n",
       "      <td>30</td>\n",
       "      <td>11</td>\n",
       "      <td>32</td>\n",
       "      <td>38</td>\n",
       "      <td>81</td>\n",
       "      <td>PM25</td>\n",
       "      <td>SEDANG</td>\n",
       "    </tr>\n",
       "    <tr>\n",
       "      <th>1</th>\n",
       "      <td>2021-10-02</td>\n",
       "      <td>DKI1 (Bunderan HI)</td>\n",
       "      <td>67</td>\n",
       "      <td>99</td>\n",
       "      <td>32</td>\n",
       "      <td>11</td>\n",
       "      <td>30</td>\n",
       "      <td>35</td>\n",
       "      <td>99</td>\n",
       "      <td>PM25</td>\n",
       "      <td>SEDANG</td>\n",
       "    </tr>\n",
       "    <tr>\n",
       "      <th>2</th>\n",
       "      <td>2021-10-03</td>\n",
       "      <td>DKI1 (Bunderan HI)</td>\n",
       "      <td>70</td>\n",
       "      <td>85</td>\n",
       "      <td>29</td>\n",
       "      <td>10</td>\n",
       "      <td>28</td>\n",
       "      <td>28</td>\n",
       "      <td>85</td>\n",
       "      <td>PM25</td>\n",
       "      <td>SEDANG</td>\n",
       "    </tr>\n",
       "    <tr>\n",
       "      <th>3</th>\n",
       "      <td>2021-10-04</td>\n",
       "      <td>DKI1 (Bunderan HI)</td>\n",
       "      <td>58</td>\n",
       "      <td>82</td>\n",
       "      <td>30</td>\n",
       "      <td>11</td>\n",
       "      <td>34</td>\n",
       "      <td>29</td>\n",
       "      <td>82</td>\n",
       "      <td>PM25</td>\n",
       "      <td>SEDANG</td>\n",
       "    </tr>\n",
       "    <tr>\n",
       "      <th>4</th>\n",
       "      <td>2021-10-05</td>\n",
       "      <td>DKI1 (Bunderan HI)</td>\n",
       "      <td>55</td>\n",
       "      <td>76</td>\n",
       "      <td>29</td>\n",
       "      <td>11</td>\n",
       "      <td>30</td>\n",
       "      <td>33</td>\n",
       "      <td>76</td>\n",
       "      <td>PM25</td>\n",
       "      <td>SEDANG</td>\n",
       "    </tr>\n",
       "    <tr>\n",
       "      <th>...</th>\n",
       "      <td>...</td>\n",
       "      <td>...</td>\n",
       "      <td>...</td>\n",
       "      <td>...</td>\n",
       "      <td>...</td>\n",
       "      <td>...</td>\n",
       "      <td>...</td>\n",
       "      <td>...</td>\n",
       "      <td>...</td>\n",
       "      <td>...</td>\n",
       "      <td>...</td>\n",
       "    </tr>\n",
       "    <tr>\n",
       "      <th>145</th>\n",
       "      <td>2021-09-26</td>\n",
       "      <td>DKI5 (Kebon Jeruk) Jakarta Barat</td>\n",
       "      <td>48</td>\n",
       "      <td>67</td>\n",
       "      <td>---</td>\n",
       "      <td>4</td>\n",
       "      <td>30</td>\n",
       "      <td>9</td>\n",
       "      <td>67</td>\n",
       "      <td>PM25</td>\n",
       "      <td>SEDANG</td>\n",
       "    </tr>\n",
       "    <tr>\n",
       "      <th>146</th>\n",
       "      <td>2021-09-27</td>\n",
       "      <td>DKI5 (Kebon Jeruk) Jakarta Barat</td>\n",
       "      <td>51</td>\n",
       "      <td>78</td>\n",
       "      <td>---</td>\n",
       "      <td>9</td>\n",
       "      <td>22</td>\n",
       "      <td>18</td>\n",
       "      <td>78</td>\n",
       "      <td>PM25</td>\n",
       "      <td>SEDANG</td>\n",
       "    </tr>\n",
       "    <tr>\n",
       "      <th>147</th>\n",
       "      <td>2021-09-28</td>\n",
       "      <td>DKI5 (Kebon Jeruk) Jakarta Barat</td>\n",
       "      <td>42</td>\n",
       "      <td>64</td>\n",
       "      <td>---</td>\n",
       "      <td>5</td>\n",
       "      <td>26</td>\n",
       "      <td>14</td>\n",
       "      <td>64</td>\n",
       "      <td>PM25</td>\n",
       "      <td>SEDANG</td>\n",
       "    </tr>\n",
       "    <tr>\n",
       "      <th>148</th>\n",
       "      <td>2021-09-29</td>\n",
       "      <td>DKI5 (Kebon Jeruk) Jakarta Barat</td>\n",
       "      <td>56</td>\n",
       "      <td>87</td>\n",
       "      <td>---</td>\n",
       "      <td>11</td>\n",
       "      <td>34</td>\n",
       "      <td>19</td>\n",
       "      <td>87</td>\n",
       "      <td>PM25</td>\n",
       "      <td>SEDANG</td>\n",
       "    </tr>\n",
       "    <tr>\n",
       "      <th>149</th>\n",
       "      <td>2021-09-30</td>\n",
       "      <td>DKI5 (Kebon Jeruk) Jakarta Barat</td>\n",
       "      <td>68</td>\n",
       "      <td>108</td>\n",
       "      <td>---</td>\n",
       "      <td>10</td>\n",
       "      <td>46</td>\n",
       "      <td>13</td>\n",
       "      <td>108</td>\n",
       "      <td>PM25</td>\n",
       "      <td>TIDAK SEHAT</td>\n",
       "    </tr>\n",
       "  </tbody>\n",
       "</table>\n",
       "<p>1825 rows × 11 columns</p>\n",
       "</div>"
      ],
      "text/plain": [
       "        tanggal                           stasiun pm10 pm25  so2  co  o3 no2  \\\n",
       "0    2021-10-01                DKI1 (Bunderan HI)   57   81   30  11  32  38   \n",
       "1    2021-10-02                DKI1 (Bunderan HI)   67   99   32  11  30  35   \n",
       "2    2021-10-03                DKI1 (Bunderan HI)   70   85   29  10  28  28   \n",
       "3    2021-10-04                DKI1 (Bunderan HI)   58   82   30  11  34  29   \n",
       "4    2021-10-05                DKI1 (Bunderan HI)   55   76   29  11  30  33   \n",
       "..          ...                               ...  ...  ...  ...  ..  ..  ..   \n",
       "145  2021-09-26  DKI5 (Kebon Jeruk) Jakarta Barat   48   67  ---   4  30   9   \n",
       "146  2021-09-27  DKI5 (Kebon Jeruk) Jakarta Barat   51   78  ---   9  22  18   \n",
       "147  2021-09-28  DKI5 (Kebon Jeruk) Jakarta Barat   42   64  ---   5  26  14   \n",
       "148  2021-09-29  DKI5 (Kebon Jeruk) Jakarta Barat   56   87  ---  11  34  19   \n",
       "149  2021-09-30  DKI5 (Kebon Jeruk) Jakarta Barat   68  108  ---  10  46  13   \n",
       "\n",
       "     max critical     categori  \n",
       "0     81     PM25       SEDANG  \n",
       "1     99     PM25       SEDANG  \n",
       "2     85     PM25       SEDANG  \n",
       "3     82     PM25       SEDANG  \n",
       "4     76     PM25       SEDANG  \n",
       "..   ...      ...          ...  \n",
       "145   67     PM25       SEDANG  \n",
       "146   78     PM25       SEDANG  \n",
       "147   64     PM25       SEDANG  \n",
       "148   87     PM25       SEDANG  \n",
       "149  108     PM25  TIDAK SEHAT  \n",
       "\n",
       "[1825 rows x 11 columns]"
      ]
     },
     "metadata": {},
     "output_type": "display_data"
    }
   ],
   "source": [
    "display(df)"
   ]
  },
  {
   "cell_type": "markdown",
   "id": "e293db76",
   "metadata": {},
   "source": [
    "# Seberapa Buruk Kualitas Udara di Ibukota dan Kota Manakah Yang Memiliki Kualitas Udara Paling Buruk"
   ]
  },
  {
   "cell_type": "code",
   "execution_count": 139,
   "id": "bec878bf",
   "metadata": {},
   "outputs": [],
   "source": [
    "#Ubah kolum tanggal menjadi bentuk datetime\n",
    "df['tanggal'] = pd.to_datetime(df['tanggal'])\n",
    "\n",
    "#buat kolum baru dari bulan\n",
    "df['month'] = df['tanggal'].dt.month\n",
    "\n",
    "#ganti angka bulan menjadi string sesuai dengan nama bulan\n",
    "month_label = ['January','February','March','April','May','June','July','August','September','October','November','December']\n",
    "df['month'] = df['month'].apply(lambda data: month_label[data-1])\n",
    "df['month'] = pd.Categorical(df['month'], categories=month_label)"
   ]
  },
  {
   "cell_type": "code",
   "execution_count": 140,
   "id": "f99caada",
   "metadata": {},
   "outputs": [
    {
     "data": {
      "text/html": [
       "<div>\n",
       "<style scoped>\n",
       "    .dataframe tbody tr th:only-of-type {\n",
       "        vertical-align: middle;\n",
       "    }\n",
       "\n",
       "    .dataframe tbody tr th {\n",
       "        vertical-align: top;\n",
       "    }\n",
       "\n",
       "    .dataframe thead th {\n",
       "        text-align: right;\n",
       "    }\n",
       "</style>\n",
       "<table border=\"1\" class=\"dataframe\">\n",
       "  <thead>\n",
       "    <tr style=\"text-align: right;\">\n",
       "      <th>month</th>\n",
       "      <th>January</th>\n",
       "      <th>February</th>\n",
       "      <th>March</th>\n",
       "      <th>April</th>\n",
       "      <th>May</th>\n",
       "      <th>June</th>\n",
       "      <th>July</th>\n",
       "      <th>August</th>\n",
       "      <th>September</th>\n",
       "      <th>October</th>\n",
       "      <th>November</th>\n",
       "      <th>December</th>\n",
       "    </tr>\n",
       "    <tr>\n",
       "      <th>stasiun</th>\n",
       "      <th></th>\n",
       "      <th></th>\n",
       "      <th></th>\n",
       "      <th></th>\n",
       "      <th></th>\n",
       "      <th></th>\n",
       "      <th></th>\n",
       "      <th></th>\n",
       "      <th></th>\n",
       "      <th></th>\n",
       "      <th></th>\n",
       "      <th></th>\n",
       "    </tr>\n",
       "  </thead>\n",
       "  <tbody>\n",
       "    <tr>\n",
       "      <th>Bunderan HI</th>\n",
       "      <td>108</td>\n",
       "      <td>79</td>\n",
       "      <td>102</td>\n",
       "      <td>101</td>\n",
       "      <td>110</td>\n",
       "      <td>109</td>\n",
       "      <td>108</td>\n",
       "      <td>112</td>\n",
       "      <td>94</td>\n",
       "      <td>106</td>\n",
       "      <td>85</td>\n",
       "      <td>85</td>\n",
       "    </tr>\n",
       "    <tr>\n",
       "      <th>Kelapa Gading</th>\n",
       "      <td>134</td>\n",
       "      <td>87</td>\n",
       "      <td>115</td>\n",
       "      <td>115</td>\n",
       "      <td>116</td>\n",
       "      <td>108</td>\n",
       "      <td>129</td>\n",
       "      <td>110</td>\n",
       "      <td>105</td>\n",
       "      <td>115</td>\n",
       "      <td>95</td>\n",
       "      <td>99</td>\n",
       "    </tr>\n",
       "    <tr>\n",
       "      <th>Jagakarsa</th>\n",
       "      <td>126</td>\n",
       "      <td>110</td>\n",
       "      <td>118</td>\n",
       "      <td>104</td>\n",
       "      <td>151</td>\n",
       "      <td>127</td>\n",
       "      <td>132</td>\n",
       "      <td>104</td>\n",
       "      <td>108</td>\n",
       "      <td>107</td>\n",
       "      <td>95</td>\n",
       "      <td>91</td>\n",
       "    </tr>\n",
       "    <tr>\n",
       "      <th>Lubang Buaya</th>\n",
       "      <td>89</td>\n",
       "      <td>113</td>\n",
       "      <td>125</td>\n",
       "      <td>138</td>\n",
       "      <td>118</td>\n",
       "      <td>147</td>\n",
       "      <td>174</td>\n",
       "      <td>140</td>\n",
       "      <td>120</td>\n",
       "      <td>157</td>\n",
       "      <td>106</td>\n",
       "      <td>99</td>\n",
       "    </tr>\n",
       "    <tr>\n",
       "      <th>Kebon Jeruk</th>\n",
       "      <td>80</td>\n",
       "      <td>126</td>\n",
       "      <td>117</td>\n",
       "      <td>118</td>\n",
       "      <td>115</td>\n",
       "      <td>129</td>\n",
       "      <td>140</td>\n",
       "      <td>126</td>\n",
       "      <td>108</td>\n",
       "      <td>112</td>\n",
       "      <td>91</td>\n",
       "      <td>90</td>\n",
       "    </tr>\n",
       "  </tbody>\n",
       "</table>\n",
       "</div>"
      ],
      "text/plain": [
       "month         January February March April  May June July August September  \\\n",
       "stasiun                                                                      \n",
       "Bunderan HI       108       79   102   101  110  109  108    112        94   \n",
       "Kelapa Gading     134       87   115   115  116  108  129    110       105   \n",
       "Jagakarsa         126      110   118   104  151  127  132    104       108   \n",
       "Lubang Buaya       89      113   125   138  118  147  174    140       120   \n",
       "Kebon Jeruk        80      126   117   118  115  129  140    126       108   \n",
       "\n",
       "month         October November December  \n",
       "stasiun                                  \n",
       "Bunderan HI       106       85       85  \n",
       "Kelapa Gading     115       95       99  \n",
       "Jagakarsa         107       95       91  \n",
       "Lubang Buaya      157      106       99  \n",
       "Kebon Jeruk       112       91       90  "
      ]
     },
     "metadata": {},
     "output_type": "display_data"
    }
   ],
   "source": [
    "#buat tabel pivot untuk persiapan pembuatan bar chart dan ganti nama stasiun untuk memudahkan pembaca.\n",
    "pivotdf = df.pivot_table(index='stasiun', columns='month', values='max', aggfunc= max, dropna = False)\n",
    "pivotdf = pivotdf.rename(index={'DKI1 (Bunderan HI)':'Bunderan HI',\n",
    "                                'DKI2 (Kelapa Gading)':'Kelapa Gading',\n",
    "                                'DKI3 (Jagakarsa)':'Jagakarsa',\n",
    "                                'DKI4 (Lubang Buaya)':'Lubang Buaya',\n",
    "                                'DKI5 (Kebon Jeruk) Jakarta Barat':'Kebon Jeruk'})\n",
    "display(pivotdf)"
   ]
  },
  {
   "cell_type": "code",
   "execution_count": 141,
   "id": "6e927427",
   "metadata": {},
   "outputs": [
    {
     "data": {
      "image/png": "[encoded data removed]",
      "text/plain": [
       "<Figure size 1000x1300 with 1 Axes>"
      ]
     },
     "metadata": {},
     "output_type": "display_data"
    }
   ],
   "source": [
    "#bentuk bar chart dengan mengumpulkan stasiun sesuai kategori, menggunakan kualitas udara maksimal per bulan sebagai value.\n",
    "ax = pivotdf.plot(kind='bar')\n",
    "fig = ax.get_figure()\n",
    "fig.set_size_inches(10,13)\n",
    "ax.set_xlabel('Stasiun', fontweight='bold')\n",
    "ax.set_ylabel('Kualitas Udara Max', fontweight='bold')\n",
    "ax.set_title('Kualitas udara DKI Jakarta per bulan (2021)', fontweight='bold')\n",
    "for tick in ax.get_xticklabels():\n",
    "    tick.set_rotation(0)"
   ]
  },
  {
   "cell_type": "markdown",
   "id": "c0756f30",
   "metadata": {},
   "source": [
    "Kualitas udara paling buruk bisa ditemukan di Jakarta Timur, sesuai dengan SPKU Lubang Buaya, dengan indeks kualitas udara maksimal mencapai 175 di bulan Juli, selain itu Jakarta Timur menduduki tempat pertama, kedua, dan keempat dalam kualitas udara terburuk di tahun 2021. hal ini disebabkan karena Jakarta Timur yang menjadi pusat industri Ibukota."
   ]
  },
  {
   "cell_type": "markdown",
   "id": "12bc2842",
   "metadata": {},
   "source": [
    "# Seberapa Kali Kualitas Udara Ibukota Mencapai Kategori Tidak Sehat Dalam Setahun"
   ]
  },
  {
   "cell_type": "code",
   "execution_count": 142,
   "id": "d47f922d",
   "metadata": {},
   "outputs": [
    {
     "data": {
      "text/plain": [
       "categori\n",
       "SEDANG            1349\n",
       "TIDAK SEHAT        272\n",
       "BAIK               188\n",
       "TIDAK ADA DATA      16\n",
       "dtype: int64"
      ]
     },
     "execution_count": 142,
     "metadata": {},
     "output_type": "execute_result"
    }
   ],
   "source": [
    "#buat dataframe sesuai dengan kategori kualitas udara\n",
    "dfcat = df.groupby('categori').size()\n",
    "dfcat = dfcat.sort_values(ascending = False)\n",
    "dfcat"
   ]
  },
  {
   "cell_type": "code",
   "execution_count": 143,
   "id": "97f4a288",
   "metadata": {},
   "outputs": [
    {
     "data": {
      "image/png": "[encoded data removed]",
      "text/plain": [
       "<Figure size 640x480 with 1 Axes>"
      ]
     },
     "metadata": {},
     "output_type": "display_data"
    }
   ],
   "source": [
    "#buat bar chart yang sesuai\n",
    "ax = dfcat.plot(kind = 'bar',color=(['#e4b255','#e6605f','#3fc061','#4574ba']))\n",
    "fig = ax.get_figure()  \n",
    "ax.set_xlabel('Kategori',fontweight = 'bold')\n",
    "ax.set_ylabel('Jumlah',fontweight = 'bold')\n",
    "ax.set_title('Jumlah Kualitas Udara Tidak Sehat di DKI Jakarta (2021)',fontweight='bold')\n",
    "\n",
    "#tunjukkan angka diatas bar masing-masing kategori\n",
    "ax.bar_label(ax.containers[0],label_type='edge')\n",
    "\n",
    "#putar label di X\n",
    "for tick in ax.get_xticklabels():\n",
    "    tick.set_rotation(0)"
   ]
  },
  {
   "cell_type": "markdown",
   "id": "65a3d143",
   "metadata": {},
   "source": [
    "Kualitas udara di DKI Jakarta mencapai kategori \"Tidak Sehat\" (101-199) sebanyak 272 kali dalam satu tahun, kualitas udara yang paling sering didapatkan termasuk dalam kategori \"Sedang\" (51-100) kualitas udara dalam kategori sedang berarti udara yang buruk tidak berpengaruh terhadap manusia dan hewan tetapi akan berpengaruh terhadap tumbuhan tertentu."
   ]
  },
  {
   "cell_type": "markdown",
   "id": "18ed31ef",
   "metadata": {},
   "source": [
    "# Polutan Terbanyak di Tahun 2021"
   ]
  },
  {
   "cell_type": "code",
   "execution_count": 152,
   "id": "7f4b26af",
   "metadata": {},
   "outputs": [
    {
     "data": {
      "text/plain": [
       "pollutant\n",
       "so2    424.583745\n",
       "o3     380.544810\n",
       "no2    235.011491\n",
       "co     142.963489\n",
       "Name: concentration, dtype: float64"
      ]
     },
     "execution_count": 152,
     "metadata": {},
     "output_type": "execute_result"
    }
   ],
   "source": [
    "#Buat df dengan polutan sebagai kategori\n",
    "meltdf = df.melt(id_vars=['month'], value_vars=['no2', 'co', 'so2', 'o3'])\n",
    "meltdf = meltdf.rename(columns={'variable': 'pollutant', 'value': 'concentration'})\n",
    "meltdf\n",
    "\n",
    "#jumlahkan rata-rata per bulan\n",
    "total_mean_concentrations = mean_concentrations.groupby(level='pollutant').sum()\n",
    "\n",
    "#sortir jumlah rata-rata dari tertinggi ke terendah\n",
    "total_mean_concentrations = total_mean_concentrations.sort_values(ascending=False)\n",
    "total_mean_concentrations"
   ]
  },
  {
   "cell_type": "code",
   "execution_count": 151,
   "id": "c9212ec2",
   "metadata": {},
   "outputs": [
    {
     "data": {
      "image/png": "[encoded data removed]",
      "text/plain": [
       "<Figure size 640x480 with 1 Axes>"
      ]
     },
     "metadata": {},
     "output_type": "display_data"
    }
   ],
   "source": [
    "#buat bar chart\n",
    "plt.bar(total_mean_concentrations.index, total_mean_concentrations.values)\n",
    "plt.title(\"Total Polutan di DKI Jakarta (2021)\", fontweight = 'bold')\n",
    "plt.xlabel(\"Polutan\", fontweight = 'bold')\n",
    "plt.ylabel(\"Jumlah\", fontweight = 'bold')\n",
    "plt.bar(total_mean_concentrations.index, total_mean_concentrations.values)\n",
    "plt.show()"
   ]
  }
 ],
 "metadata": {
  "kernelspec": {
   "display_name": "Python 3 (ipykernel)",
   "language": "python",
   "name": "python3"
  },
  "language_info": {
   "codemirror_mode": {
    "name": "ipython",
    "version": 3
   },
   "file_extension": ".py",
   "mimetype": "text/x-python",
   "name": "python",
   "nbconvert_exporter": "python",
   "pygments_lexer": "ipython3",
   "version": "3.9.13"
  }
 },
 "nbformat": 4,
 "nbformat_minor": 5
}
